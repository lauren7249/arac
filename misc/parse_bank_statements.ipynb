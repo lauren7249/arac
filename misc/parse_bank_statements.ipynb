{
 "cells": [
  {
   "cell_type": "code",
   "execution_count": 14,
   "metadata": {
    "collapsed": true
   },
   "outputs": [],
   "source": [
    "import pandas\n",
    "import os\n",
    "import glob\n",
    "import re"
   ]
  },
  {
   "cell_type": "code",
   "execution_count": 295,
   "metadata": {
    "collapsed": false
   },
   "outputs": [],
   "source": [
    "from dateutil import parser\n",
    "import datetime"
   ]
  },
  {
   "cell_type": "code",
   "execution_count": 3,
   "metadata": {
    "collapsed": true
   },
   "outputs": [],
   "source": [
    "from cStringIO import StringIO\n",
    "from pdfminer.pdfinterp import PDFResourceManager, process_pdf\n",
    "from pdfminer.converter import TextConverter\n",
    "from pdfminer.layout import LAParams\n",
    "\n",
    "def to_txt(pdf_path):\n",
    "    input_ = file(pdf_path, 'rb')\n",
    "    output = StringIO()\n",
    "\n",
    "    manager = PDFResourceManager()\n",
    "    converter = TextConverter(manager, output, laparams=LAParams())\n",
    "    process_pdf(manager, converter, input_)\n",
    "\n",
    "    return output.getvalue() "
   ]
  },
  {
   "cell_type": "code",
   "execution_count": 11,
   "metadata": {
    "collapsed": false
   },
   "outputs": [],
   "source": [
    "files = glob.glob('/Users/lauren/Documents/taxes2016/check*')"
   ]
  },
  {
   "cell_type": "code",
   "execution_count": 112,
   "metadata": {
    "collapsed": false
   },
   "outputs": [],
   "source": [
    "def get_df(relevant_lines):\n",
    "    df = pandas.DataFrame()\n",
    "    row = {}\n",
    "    for line in relevant_lines:\n",
    "        if re.search('^\\d{1,2}/\\d{1,2}\\s{2,}[A-Za-z].+\\.\\d\\d$',line.strip()):\n",
    "            if row:\n",
    "                df = df.append(row, ignore_index=True)\n",
    "            row = {}\n",
    "            row['Date'] = parser.parse(re.search('^\\d{1,2}/\\d{1,2}',line.strip()).group(0)+\"/2016\")\n",
    "            row['amount'] = float(line.strip().split(\" \")[-1])\n",
    "            row['description'] = line.strip()[5:].split(\" on \")[0].strip()\n",
    "        else:\n",
    "            row['description'] = line.strip()\n",
    "    df = df.append(row, ignore_index=True)\n",
    "    return df"
   ]
  },
  {
   "cell_type": "code",
   "execution_count": 113,
   "metadata": {
    "collapsed": false
   },
   "outputs": [],
   "source": [
    "total = 0.0\n",
    "dfs = []\n",
    "for filename in files:\n",
    "    txt = to_txt(filename)\n",
    "    lines = txt.split(\"\\n\")\n",
    "    relevant_lines = [line for line in lines if line.startswith('         ') \\\n",
    "                 and not line.strip().startswith('DATE ') \\\n",
    "                 and (re.search('^\\d{1,2}/\\d{1,2}\\s{2,}[A-Za-z].+\\.\\d\\d$',line.strip()) \\\n",
    "                      or re.search('^                [A-Z]',line))]\n",
    "    amounts = [float(line.strip().split(\" \")[-1]) for line in relevant_lines \\\n",
    "           if re.search('^\\d{1,2}/\\d{1,2}\\s{2,}[A-Za-z].+\\.\\d\\d$',line.strip())]\n",
    "    total = total+sum(amounts)\n",
    "    df = get_df(relevant_lines)\n",
    "    dfs.append(df)\n",
    "all_dfs = pandas.concat(dfs, ignore_index=True)"
   ]
  },
  {
   "cell_type": "code",
   "execution_count": 117,
   "metadata": {
    "collapsed": false
   },
   "outputs": [
    {
     "data": {
      "text/plain": [
       "True"
      ]
     },
     "execution_count": 117,
     "metadata": {},
     "output_type": "execute_result"
    }
   ],
   "source": [
    "(all_dfs.amount.sum()-total)<1.0"
   ]
  },
  {
   "cell_type": "code",
   "execution_count": 293,
   "metadata": {
    "collapsed": true
   },
   "outputs": [],
   "source": [
    "all_dfs['month'] = all_dfs.Date.dt.month\n",
    "relevant_dates = all_dfs[all_dfs.month.between(1,5)]\n",
    "relevant_dates = relevant_dates[relevant_dates.Date<pandas.Timestamp('2016-05-01')]"
   ]
  },
  {
   "cell_type": "code",
   "execution_count": 296,
   "metadata": {
    "collapsed": false
   },
   "outputs": [],
   "source": [
    "for month in relevant_dates.month.unique():\n",
    "    row = {\"amount\":2200, \"description\":\"Rent\",\"Date\":datetime.datetime(2016, month, 1)}\n",
    "    relevant_dates = relevant_dates.append(row, ignore_index=True)"
   ]
  },
  {
   "cell_type": "code",
   "execution_count": 302,
   "metadata": {
    "collapsed": false
   },
   "outputs": [
    {
     "data": {
      "text/plain": [
       "26206.760000000002"
      ]
     },
     "execution_count": 302,
     "metadata": {},
     "output_type": "execute_result"
    }
   ],
   "source": [
    "relevant_dates.amount.sum()"
   ]
  },
  {
   "cell_type": "code",
   "execution_count": 301,
   "metadata": {
    "collapsed": false
   },
   "outputs": [
    {
     "data": {
      "text/plain": [
       "23951.499999999989"
      ]
     },
     "execution_count": 301,
     "metadata": {},
     "output_type": "execute_result"
    }
   ],
   "source": [
    "def resolve_cat(s):\n",
    "    s = s.strip().upper()\n",
    "    s = re.sub('\\s+',' ',s)\n",
    "    words = s.split(' ')\n",
    "    if 'FEE' in words:\n",
    "        return 'Fees'\n",
    "    if 'TAXI' in s or 'CAB' in words or 'CURB' in words:\n",
    "        return 'Taxi'\n",
    "    if 'INSURANCE' in words:\n",
    "        return 'Insurance'\n",
    "    if 'AMAZON' in s or 'THEATER' in s or 'BAR' in words or 'ITUNES' in s or 'AUDIBLE' in s \\\n",
    "    or 'LIQUOR' in words or 'WINE' in words or 'WINES' in s or 'UCB' in words or 'SING SING' in s \\\n",
    "    or 'TAWK' in s or 'SLATE' in s or 'STARS-' in s:\n",
    "        return 'Entertainment'\n",
    "    if 'MEDICAL' in s or 'PHARMA' in s:\n",
    "        return 'Medical'\n",
    "    if 'UAS' in words or 'ECSI' in words or 'STUDENT LN' in s or 'EDUCATIONAL COMP' in s:\n",
    "        return 'Student Loans'\n",
    "    if 'BROWSERSTACK' in s or 'DOCHUB' in s or 'DUANE' in words or 'RITE AID' in s or '1AND1' in s\\\n",
    "    or 'H BRICKMAN' in s or 'PRINTWITH' in s:\n",
    "        return 'Supplies'\n",
    "    if 'AT&T' in s or 'TWC' in s:\n",
    "        return 'Utilities'\n",
    "    if 'AIRBNB' in s:\n",
    "        return 'Travel - lodging'\n",
    "    if 'JFK' in s or 'INFLIGHT' in words or 'SPIRIT AI' in s:\n",
    "        return 'Travel'\n",
    "    if 'GIFTS' in words or 'FUNDRAZR' in s:\n",
    "        return 'Charity'\n",
    "    if s.startswith('MTA') or s.startswith('METRO'):\n",
    "        return 'Transportation'\n",
    "    if 'SMOOTHLINK' in s:\n",
    "        return 'Repairs'\n",
    "    if 'BOUTIQUE' in words or 'SPA' in words or 'DSW' in words or 'FLORIST' in words \\\n",
    "    or 'DBT PUR' in s or 'BROWARD' in s or 'CLEANERLAU' in s or 'NAILS' in words or 'CLOTHING' in words \\\n",
    "    or 'THRIFT' in s or 'BEAUTY' in s or 'ZARA' in words or 'SEPHORA' in words or s.startswith('STRAWBERRY') \\\n",
    "    or 'MATCH.COM' in s or 'RICKY`S' in s or 'FILLMORE' in words or 'LAINA' in words or 'URBANSTEMS' in s:\n",
    "        return None\n",
    "    if 'COFFEE' in s or 'CAFE' in s or 'DELI' in s or 'KITCHEN' in s or 'TAVERN' in words or 'MARKET' in words \\\n",
    "    or 'ORGANIC' in words or 'TEA' in words or 'CURRY' in words or 'CARAVAN OF' in s or 'FARFASHA' in words \\\n",
    "    or 'BRINKLEYS' in words or 'BAJA' in words or 'BLOSSOM ON ' in s or 'FIKA' in words or 'FRESH &' in s\\\n",
    "    or 'SEAMLESS' in s or 'GRUBHUB' in words or 'GRISTEDES' in words or 'DINER' in words or 'BOONSRI' in words \\\n",
    "    or 'DRAUGHT' in words or 'CROXLEYS' in words or 'EGG' in words or 'BISTRO' in words or 'FARM' in words \\\n",
    "    or 'HEART OF INDIA' in s or 'HALE AND' in s or 'DEN ' in s or s.startswith('LE ') or s.startswith('LA ') \\\n",
    "    or 'RESTAUR' in s or 'STARBUCKS' in s or 'THE BEAN' in s or s.startswith('THE ') or s.startswith('SQ ') \\\n",
    "    or s.startswith('SAN ') or 'WHOLEFDS' in s or 'LIQUITERIA' in s or 'DOJO' in words \\\n",
    "    or 'SPECIALTY' in words or 'SEAMLSS' in s or s.startswith('OFICINA ') or 'TACO' in words or 'TACU' in words\\\n",
    "    or 'M2M' in words or 'MEXICAN' in words or 'PRET' in words or 'KONDITORI' in words or 'HAIR OF THE' in s \\\n",
    "    or 'KOPINYC' in words or 'SWEETGREEN' in s or 'LUCIEN' in words or 'MATCHBOX CHINA' in s \\\n",
    "    or 'POS PURCHASE' in s or 'PIZZA' in words or 'BAMBOO' in words or 'ROASTING' in words or 'ROSIE' in s \\\n",
    "    or \"SPICE\" in words or 'SPIEGEL' in words or 'SPRING STREET NATURAL' in s or 'TRES CARNES' in s \\\n",
    "    or \"VIC'S\" in s or 'WISE MEN' in s or 'SUNAC NATURAL' in s or 'ATM WITHD' in s:\n",
    "        return 'Meals'\n",
    "    return s\n",
    "relevant_dates['category'] = relevant_dates.description.apply(resolve_cat)\n",
    "relevant_dates.groupby(\"category\").amount.sum().sum()\n",
    "relevant_dates['Month'] = relevant_dates.Date.dt.strftime('%B')\n",
    "relevant_dates.drop('month', axis=1, inplace=True)"
   ]
  },
  {
   "cell_type": "code",
   "execution_count": 312,
   "metadata": {
    "collapsed": false
   },
   "outputs": [],
   "source": [
    "relevant_dates[relevant_dates.category.isnull()==False]\\\n",
    ".to_csv('/Users/lauren/Documents/taxes2016/items.csv', index=None)"
   ]
  },
  {
   "cell_type": "code",
   "execution_count": 316,
   "metadata": {
    "collapsed": false
   },
   "outputs": [],
   "source": [
    "relevant_dates.groupby([\"category\",\"Month\"]).amount.sum()\\\n",
    ".to_csv('/Users/lauren/Documents/taxes2016/summary.csv')"
   ]
  }
 ],
 "metadata": {
  "kernelspec": {
   "display_name": "Python 2",
   "language": "python",
   "name": "python2"
  },
  "language_info": {
   "codemirror_mode": {
    "name": "ipython",
    "version": 2
   },
   "file_extension": ".py",
   "mimetype": "text/x-python",
   "name": "python",
   "nbconvert_exporter": "python",
   "pygments_lexer": "ipython2",
   "version": "2.7.9"
  }
 },
 "nbformat": 4,
 "nbformat_minor": 2
}
